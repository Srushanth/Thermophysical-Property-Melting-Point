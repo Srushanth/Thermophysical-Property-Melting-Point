{
 "cells": [
  {
   "cell_type": "code",
   "execution_count": null,
   "id": "7e634391",
   "metadata": {},
   "outputs": [],
   "source": [
    "import pandas as pd"
   ]
  },
  {
   "cell_type": "code",
   "execution_count": null,
   "id": "4864d93d",
   "metadata": {},
   "outputs": [],
   "source": [
    "base_storage_path = \"s3://srushanth-baride/thermophysical-property-melting-point\""
   ]
  },
  {
   "cell_type": "code",
   "execution_count": null,
   "id": "c3554f9a",
   "metadata": {},
   "outputs": [],
   "source": [
    "df = pd.read_csv(f\"{base_storage_path}/train.csv\")\n",
    "df.head()"
   ]
  },
  {
   "cell_type": "code",
   "execution_count": null,
   "id": "c3f2a982",
   "metadata": {},
   "outputs": [],
   "source": [
    "df.shape"
   ]
  },
  {
   "cell_type": "code",
   "execution_count": null,
   "id": "77c82348",
   "metadata": {},
   "outputs": [],
   "source": [
    "df[\"id\"].unique().shape"
   ]
  },
  {
   "cell_type": "code",
   "execution_count": null,
   "id": "31f8ecfc",
   "metadata": {},
   "outputs": [],
   "source": [
    "df.index = df[\"id\"]"
   ]
  },
  {
   "cell_type": "code",
   "execution_count": null,
   "id": "434eed70",
   "metadata": {},
   "outputs": [],
   "source": [
    "df.drop(columns=[\"id\"], inplace=True)"
   ]
  },
  {
   "cell_type": "code",
   "execution_count": null,
   "id": "13cc9af1",
   "metadata": {},
   "outputs": [],
   "source": [
    "df"
   ]
  },
  {
   "cell_type": "code",
   "execution_count": null,
   "id": "a1277320",
   "metadata": {},
   "outputs": [],
   "source": [
    "df.info()"
   ]
  },
  {
   "cell_type": "code",
   "execution_count": null,
   "id": "6ea13f48",
   "metadata": {},
   "outputs": [],
   "source": [
    "df.describe()"
   ]
  },
  {
   "cell_type": "code",
   "execution_count": null,
   "id": "2b5110b3",
   "metadata": {},
   "outputs": [],
   "source": [
    "df.dtypes"
   ]
  },
  {
   "cell_type": "code",
   "execution_count": null,
   "id": "9d2f5372",
   "metadata": {},
   "outputs": [],
   "source": [
    "df[\"SMILES\"].unique().shape"
   ]
  },
  {
   "cell_type": "code",
   "execution_count": null,
   "id": "17dc868f",
   "metadata": {},
   "outputs": [],
   "source": []
  }
 ],
 "metadata": {
  "kernelspec": {
   "display_name": "Thermophysical-Property-Melting-Point",
   "language": "python",
   "name": "python3"
  },
  "language_info": {
   "codemirror_mode": {
    "name": "ipython",
    "version": 3
   },
   "file_extension": ".py",
   "mimetype": "text/x-python",
   "name": "python",
   "nbconvert_exporter": "python",
   "pygments_lexer": "ipython3",
   "version": "3.12.3"
  }
 },
 "nbformat": 4,
 "nbformat_minor": 5
}
