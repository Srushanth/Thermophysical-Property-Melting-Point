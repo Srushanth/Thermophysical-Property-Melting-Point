{
 "cells": [
  {
   "cell_type": "code",
   "execution_count": null,
   "id": "0381d913",
   "metadata": {},
   "outputs": [],
   "source": [
    "import pandas as pd\n",
    "from sklearn.metrics import mean_absolute_error\n",
    "from sklearn.model_selection import train_test_split\n",
    "from xgboost import XGBRegressor"
   ]
  },
  {
   "cell_type": "code",
   "execution_count": null,
   "id": "e36be9ab",
   "metadata": {},
   "outputs": [],
   "source": [
    "base_storage_path = \"s3://srushanth-baride/thermophysical-property-melting-point\""
   ]
  },
  {
   "cell_type": "code",
   "execution_count": null,
   "id": "31c0b895",
   "metadata": {},
   "outputs": [],
   "source": [
    "df = pd.read_csv(f\"{base_storage_path}/train.csv\")\n",
    "df.head()"
   ]
  },
  {
   "cell_type": "code",
   "execution_count": null,
   "id": "9c4c8916",
   "metadata": {},
   "outputs": [],
   "source": [
    "X = df.drop(columns=[\"id\", \"SMILES\", \"Tm\"])"
   ]
  },
  {
   "cell_type": "code",
   "execution_count": null,
   "id": "336d54f9",
   "metadata": {},
   "outputs": [],
   "source": [
    "y = df[\"Tm\"]"
   ]
  },
  {
   "cell_type": "code",
   "execution_count": null,
   "id": "4d068404",
   "metadata": {},
   "outputs": [],
   "source": [
    "X_train, X_test, y_train, y_test = train_test_split(X, y, test_size=0.2, random_state=42)"
   ]
  },
  {
   "cell_type": "code",
   "execution_count": null,
   "id": "f840aab8",
   "metadata": {},
   "outputs": [],
   "source": [
    "xgb_model = XGBRegressor(objective=\"reg:absoluteerror\", eval_metric=\"mae\", verbosity=1)"
   ]
  },
  {
   "cell_type": "code",
   "execution_count": null,
   "id": "df364851",
   "metadata": {},
   "outputs": [],
   "source": [
    "xgb_model.fit(X_train, y_train)"
   ]
  },
  {
   "cell_type": "code",
   "execution_count": null,
   "id": "fbbfe44d",
   "metadata": {},
   "outputs": [],
   "source": [
    "y_predictions = xgb_model.predict(X_test)"
   ]
  },
  {
   "cell_type": "code",
   "execution_count": null,
   "id": "b2b3f92b",
   "metadata": {},
   "outputs": [],
   "source": [
    "mean_absolute_error(y_test, y_predictions)"
   ]
  },
  {
   "cell_type": "code",
   "execution_count": null,
   "id": "72cef624",
   "metadata": {},
   "outputs": [],
   "source": [
    "df_test = pd.read_csv(f\"{base_storage_path}/test.csv\")\n",
    "df_test.head()"
   ]
  },
  {
   "cell_type": "code",
   "execution_count": null,
   "id": "e5a5dd95",
   "metadata": {},
   "outputs": [],
   "source": [
    "id = df_test[\"id\"]"
   ]
  },
  {
   "cell_type": "code",
   "execution_count": null,
   "id": "f55a6888",
   "metadata": {},
   "outputs": [],
   "source": [
    "df_test.drop(columns=[\"id\", \"SMILES\"], inplace=True)"
   ]
  },
  {
   "cell_type": "code",
   "execution_count": null,
   "id": "7a7c2d6e",
   "metadata": {},
   "outputs": [],
   "source": [
    "y_predictions = xgb_model.predict(df_test)"
   ]
  },
  {
   "cell_type": "code",
   "execution_count": null,
   "id": "ee028509",
   "metadata": {},
   "outputs": [],
   "source": [
    "pd.DataFrame({\n",
    "    \"id\": id,\n",
    "    \"Tm\": y_predictions\n",
    "}).to_csv(\"../output/submission.csv\", index=False)"
   ]
  },
  {
   "cell_type": "code",
   "execution_count": null,
   "id": "0f7859ef",
   "metadata": {},
   "outputs": [],
   "source": []
  }
 ],
 "metadata": {
  "kernelspec": {
   "display_name": "Thermophysical-Property-Melting-Point",
   "language": "python",
   "name": "python3"
  },
  "language_info": {
   "codemirror_mode": {
    "name": "ipython",
    "version": 3
   },
   "file_extension": ".py",
   "mimetype": "text/x-python",
   "name": "python",
   "nbconvert_exporter": "python",
   "pygments_lexer": "ipython3",
   "version": "3.12.3"
  }
 },
 "nbformat": 4,
 "nbformat_minor": 5
}
